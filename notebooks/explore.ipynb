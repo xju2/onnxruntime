{
 "cells": [
  {
   "cell_type": "code",
   "execution_count": 1,
   "metadata": {},
   "outputs": [],
   "source": [
    "import onnx\n",
    "import onnxruntime as ort\n",
    "import numpy as np"
   ]
  },
  {
   "cell_type": "code",
   "execution_count": 2,
   "metadata": {},
   "outputs": [
    {
     "name": "stdout",
     "output_type": "stream",
     "text": [
      "1.18.0\n"
     ]
    }
   ],
   "source": [
    "print(ort.__version__)"
   ]
  },
  {
   "cell_type": "code",
   "execution_count": 3,
   "metadata": {},
   "outputs": [],
   "source": [
    "def inspect_model(model_path: str, n_track_features: int, none_input: bool = False):\n",
    "    model = onnx.load(model_path)\n",
    "    onnx.checker.check_model(model)\n",
    "    onnx.helper.printable_graph(model.graph)\n",
    "\n",
    "    sess_opts = ort.SessionOptions()\n",
    "    sess_opts.enable_mem_reuse = False\n",
    "    ort_sess = ort.InferenceSession(model_path, sess_opts=sess_opts)\n",
    "    input_names = [x.name for x in ort_sess.get_inputs()]\n",
    "    input_shapes = [x.shape for x in ort_sess.get_inputs()]\n",
    "    output_names = [x.name for x in ort_sess.get_outputs()]\n",
    "    output_shapes = [x.shape for x in ort_sess.get_outputs()]\n",
    "    print(\"Input names: \", input_names, \"with shapes: \", input_shapes)\n",
    "    print(\"Output names: \", output_names, \"with shapes: \", output_shapes)\n",
    "\n",
    "\n",
    "    jet_features = np.array([[85507.8, -3.05748]], dtype=np.float32)\n",
    "    track_features = np.array([]*n_track_features, dtype=np.float32) \\\n",
    "        if none_input \\\n",
    "        else np.array([0.]*n_track_features, dtype=np.float32)\n",
    "    track_features = track_features.reshape(-1, n_track_features)\n",
    "    print(\"jet feature shape:\", jet_features.shape)\n",
    "    print(\"track feature shape:\", track_features.shape)\n",
    "\n",
    "    results = ort_sess.run(output_names, {input_names[0]: jet_features, input_names[1]: track_features})\n",
    "    return results\n"
   ]
  },
  {
   "cell_type": "code",
   "execution_count": 4,
   "metadata": {},
   "outputs": [],
   "source": [
    "m1_config = [\"/cvmfs/atlas.cern.ch/repo/sw/database/GroupData/dev/BTagging/20230307/gn2v00/antiktvr30rmax4rmin02track/network.onnx\", 21]\n",
    "m2_config = [\"/cvmfs/atlas.cern.ch/repo/sw/database/GroupData/dev/BTagging/20231205/GN2v01/antikt4empflow/network_fold0.onnx\", 19]"
   ]
  },
  {
   "cell_type": "code",
   "execution_count": 5,
   "metadata": {},
   "outputs": [
    {
     "name": "stdout",
     "output_type": "stream",
     "text": [
      "Input names:  ['jet_features', 'track_features'] with shapes:  [[1, 2], ['n_tracks', 21]]\n",
      "Output names:  ['pu', 'pc', 'pb'] with shapes:  [[1], [1], [1]]\n",
      "jet feature shape: (1, 2)\n",
      "track feature shape: (1, 21)\n"
     ]
    },
    {
     "data": {
      "text/plain": [
       "[array([0.8281662], dtype=float32),\n",
       " array([0.10067604], dtype=float32),\n",
       " array([0.07115781], dtype=float32)]"
      ]
     },
     "execution_count": 5,
     "metadata": {},
     "output_type": "execute_result"
    }
   ],
   "source": [
    "inspect_model(*m1_config)"
   ]
  },
  {
   "cell_type": "code",
   "execution_count": 6,
   "metadata": {},
   "outputs": [
    {
     "name": "stdout",
     "output_type": "stream",
     "text": [
      "Input names:  ['jet_features', 'track_features'] with shapes:  [[1, 2], ['n_tracks', 21]]\n",
      "Output names:  ['pu', 'pc', 'pb'] with shapes:  [[1], [1], [1]]\n",
      "jet feature shape: (1, 2)\n",
      "track feature shape: (0, 21)\n"
     ]
    },
    {
     "data": {
      "text/plain": [
       "[array([0.6114677], dtype=float32),\n",
       " array([0.26959956], dtype=float32),\n",
       " array([0.11893278], dtype=float32)]"
      ]
     },
     "execution_count": 6,
     "metadata": {},
     "output_type": "execute_result"
    }
   ],
   "source": [
    "inspect_model(*m1_config, none_input=True)"
   ]
  },
  {
   "cell_type": "code",
   "execution_count": 7,
   "metadata": {},
   "outputs": [
    {
     "name": "stdout",
     "output_type": "stream",
     "text": [
      "Input names:  ['jet_features', 'track_features'] with shapes:  [[1, 2], ['n_tracks', 19]]\n",
      "Output names:  ['GN2v01_pb', 'GN2v01_pc', 'GN2v01_pu', 'GN2v01_ptau', 'GN2v01_TrackOrigin', 'GN2v01_VertexIndex'] with shapes:  [[], [], [], [], ['n_tracks'], ['n_tracks']]\n",
      "jet feature shape: (1, 2)\n",
      "track feature shape: (1, 19)\n"
     ]
    },
    {
     "data": {
      "text/plain": [
       "[array(0.00410247, dtype=float32),\n",
       " array(0.07487475, dtype=float32),\n",
       " array(0.5267351, dtype=float32),\n",
       " array(0.39428762, dtype=float32),\n",
       " array([6], dtype=int8),\n",
       " array([0], dtype=int8)]"
      ]
     },
     "execution_count": 7,
     "metadata": {},
     "output_type": "execute_result"
    }
   ],
   "source": [
    "inspect_model(*m2_config)"
   ]
  },
  {
   "cell_type": "code",
   "execution_count": 8,
   "metadata": {},
   "outputs": [
    {
     "name": "stdout",
     "output_type": "stream",
     "text": [
      "Input names:  ['jet_features', 'track_features'] with shapes:  [[1, 2], ['n_tracks', 19]]\n",
      "Output names:  ['GN2v01_pb', 'GN2v01_pc', 'GN2v01_pu', 'GN2v01_ptau', 'GN2v01_TrackOrigin', 'GN2v01_VertexIndex'] with shapes:  [[], [], [], [], ['n_tracks'], ['n_tracks']]\n",
      "jet feature shape: (1, 2)\n",
      "track feature shape: (0, 19)\n"
     ]
    },
    {
     "name": "stderr",
     "output_type": "stream",
     "text": [
      "\u001b[1;31m2024-06-27 11:00:11.839008196 [E:onnxruntime:, sequential_executor.cc:516 ExecuteKernel] Non-zero status code returned while running Shape node. Name:'/Shape' Status Message: /onnxruntime_src/onnxruntime/core/framework/op_kernel.cc:83 virtual OrtValue* onnxruntime::OpKernelContext::OutputMLValue(int, const onnxruntime::TensorShape&) status.IsOK() was false. Shape mismatch attempting to re-use buffer. {2} != {3}. Validate usage of dim_value (values should be > 0) and dim_param (all values with the same string should equate to the same size) in shapes in the model.\n",
      "\u001b[m\n"
     ]
    },
    {
     "ename": "RuntimeException",
     "evalue": "[ONNXRuntimeError] : 6 : RUNTIME_EXCEPTION : Non-zero status code returned while running Shape node. Name:'/Shape' Status Message: /onnxruntime_src/onnxruntime/core/framework/op_kernel.cc:83 virtual OrtValue* onnxruntime::OpKernelContext::OutputMLValue(int, const onnxruntime::TensorShape&) status.IsOK() was false. Shape mismatch attempting to re-use buffer. {2} != {3}. Validate usage of dim_value (values should be > 0) and dim_param (all values with the same string should equate to the same size) in shapes in the model.\n",
     "output_type": "error",
     "traceback": [
      "\u001b[0;31m---------------------------------------------------------------------------\u001b[0m",
      "\u001b[0;31mRuntimeException\u001b[0m                          Traceback (most recent call last)",
      "Cell \u001b[0;32mIn[8], line 1\u001b[0m\n\u001b[0;32m----> 1\u001b[0m \u001b[43minspect_model\u001b[49m\u001b[43m(\u001b[49m\u001b[38;5;241;43m*\u001b[39;49m\u001b[43mm2_config\u001b[49m\u001b[43m,\u001b[49m\u001b[43m \u001b[49m\u001b[43mnone_input\u001b[49m\u001b[38;5;241;43m=\u001b[39;49m\u001b[38;5;28;43;01mTrue\u001b[39;49;00m\u001b[43m)\u001b[49m\n",
      "Cell \u001b[0;32mIn[3], line 25\u001b[0m, in \u001b[0;36minspect_model\u001b[0;34m(model_path, n_track_features, none_input)\u001b[0m\n\u001b[1;32m     22\u001b[0m \u001b[38;5;28mprint\u001b[39m(\u001b[38;5;124m\"\u001b[39m\u001b[38;5;124mjet feature shape:\u001b[39m\u001b[38;5;124m\"\u001b[39m, jet_features\u001b[38;5;241m.\u001b[39mshape)\n\u001b[1;32m     23\u001b[0m \u001b[38;5;28mprint\u001b[39m(\u001b[38;5;124m\"\u001b[39m\u001b[38;5;124mtrack feature shape:\u001b[39m\u001b[38;5;124m\"\u001b[39m, track_features\u001b[38;5;241m.\u001b[39mshape)\n\u001b[0;32m---> 25\u001b[0m results \u001b[38;5;241m=\u001b[39m \u001b[43mort_sess\u001b[49m\u001b[38;5;241;43m.\u001b[39;49m\u001b[43mrun\u001b[49m\u001b[43m(\u001b[49m\u001b[43moutput_names\u001b[49m\u001b[43m,\u001b[49m\u001b[43m \u001b[49m\u001b[43m{\u001b[49m\u001b[43minput_names\u001b[49m\u001b[43m[\u001b[49m\u001b[38;5;241;43m0\u001b[39;49m\u001b[43m]\u001b[49m\u001b[43m:\u001b[49m\u001b[43m \u001b[49m\u001b[43mjet_features\u001b[49m\u001b[43m,\u001b[49m\u001b[43m \u001b[49m\u001b[43minput_names\u001b[49m\u001b[43m[\u001b[49m\u001b[38;5;241;43m1\u001b[39;49m\u001b[43m]\u001b[49m\u001b[43m:\u001b[49m\u001b[43m \u001b[49m\u001b[43mtrack_features\u001b[49m\u001b[43m}\u001b[49m\u001b[43m)\u001b[49m\n\u001b[1;32m     26\u001b[0m \u001b[38;5;28;01mreturn\u001b[39;00m results\n",
      "File \u001b[0;32m/media/DataOcean/code/onnxruntime-1/.venv/lib/python3.10/site-packages/onnxruntime/capi/onnxruntime_inference_collection.py:220\u001b[0m, in \u001b[0;36mSession.run\u001b[0;34m(self, output_names, input_feed, run_options)\u001b[0m\n\u001b[1;32m    218\u001b[0m     output_names \u001b[38;5;241m=\u001b[39m [output\u001b[38;5;241m.\u001b[39mname \u001b[38;5;28;01mfor\u001b[39;00m output \u001b[38;5;129;01min\u001b[39;00m \u001b[38;5;28mself\u001b[39m\u001b[38;5;241m.\u001b[39m_outputs_meta]\n\u001b[1;32m    219\u001b[0m \u001b[38;5;28;01mtry\u001b[39;00m:\n\u001b[0;32m--> 220\u001b[0m     \u001b[38;5;28;01mreturn\u001b[39;00m \u001b[38;5;28;43mself\u001b[39;49m\u001b[38;5;241;43m.\u001b[39;49m\u001b[43m_sess\u001b[49m\u001b[38;5;241;43m.\u001b[39;49m\u001b[43mrun\u001b[49m\u001b[43m(\u001b[49m\u001b[43moutput_names\u001b[49m\u001b[43m,\u001b[49m\u001b[43m \u001b[49m\u001b[43minput_feed\u001b[49m\u001b[43m,\u001b[49m\u001b[43m \u001b[49m\u001b[43mrun_options\u001b[49m\u001b[43m)\u001b[49m\n\u001b[1;32m    221\u001b[0m \u001b[38;5;28;01mexcept\u001b[39;00m C\u001b[38;5;241m.\u001b[39mEPFail \u001b[38;5;28;01mas\u001b[39;00m err:\n\u001b[1;32m    222\u001b[0m     \u001b[38;5;28;01mif\u001b[39;00m \u001b[38;5;28mself\u001b[39m\u001b[38;5;241m.\u001b[39m_enable_fallback:\n",
      "\u001b[0;31mRuntimeException\u001b[0m: [ONNXRuntimeError] : 6 : RUNTIME_EXCEPTION : Non-zero status code returned while running Shape node. Name:'/Shape' Status Message: /onnxruntime_src/onnxruntime/core/framework/op_kernel.cc:83 virtual OrtValue* onnxruntime::OpKernelContext::OutputMLValue(int, const onnxruntime::TensorShape&) status.IsOK() was false. Shape mismatch attempting to re-use buffer. {2} != {3}. Validate usage of dim_value (values should be > 0) and dim_param (all values with the same string should equate to the same size) in shapes in the model.\n"
     ]
    }
   ],
   "source": [
    "inspect_model(*m2_config, none_input=True)"
   ]
  },
  {
   "cell_type": "code",
   "execution_count": null,
   "metadata": {},
   "outputs": [],
   "source": [
    "# numbers are taken from: \n",
    "# https://gitlab.cern.ch/atlas/athena/-/merge_requests/69721\n",
    "\n",
    "# jet_features = np.array([[11516.2, 1.0935]], dtype=np.float32)\n",
    "\n",
    "# track_features = np.array([-0.113795, 0.173364, -0.230979, -0.233828, 0.000914455, 1.1331, 1.3538, 0.00291881, 0.00241196, 1.61412e-05, 4, 8, 1, 1, 0, 0, 0, 0, 0, 0, 0, -0.126863, 0.00371974, 0.17269, 0.135184, -0.000857426, 0.904411, -0.0226558, 0.00404071, 0.00238144, 1.47576e-05, 4, 7, 1, 1, 0, 0, 0, 0, 0, 0, 1], dtype=np.float32)\n",
    "# track_features = track_features.reshape(-1, n_track_features)\n",
    "\n",
    "# print(\"jet feature shape:\", jet_features.shape)\n",
    "# print(\"track feature shape:\", track_features.shape)\n",
    "\n",
    "# pu, pc, pb = ort_sess.run(output_names, {input_names[0]: jet_features, input_names[1]: track_features})\n",
    "\n",
    "# print(f\"pu: {pu}\")\n",
    "# print(f\"pc: {pc}\")\n",
    "# print(f\"pb: {pb}\")"
   ]
  }
 ],
 "metadata": {
  "kernelspec": {
   "display_name": ".venv",
   "language": "python",
   "name": "python3"
  },
  "language_info": {
   "codemirror_mode": {
    "name": "ipython",
    "version": 3
   },
   "file_extension": ".py",
   "mimetype": "text/x-python",
   "name": "python",
   "nbconvert_exporter": "python",
   "pygments_lexer": "ipython3",
   "version": "3.10.12"
  }
 },
 "nbformat": 4,
 "nbformat_minor": 2
}
