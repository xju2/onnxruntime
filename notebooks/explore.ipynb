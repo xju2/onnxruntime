{
 "cells": [
  {
   "cell_type": "code",
   "execution_count": 1,
   "metadata": {},
   "outputs": [],
   "source": [
    "import onnx\n",
    "import onnxruntime as ort\n",
    "import numpy as np"
   ]
  },
  {
   "cell_type": "code",
   "execution_count": 2,
   "metadata": {},
   "outputs": [
    {
     "name": "stdout",
     "output_type": "stream",
     "text": [
      "1.15.1\n"
     ]
    }
   ],
   "source": [
    "print(ort.__version__)"
   ]
  },
  {
   "cell_type": "code",
   "execution_count": 3,
   "metadata": {},
   "outputs": [],
   "source": [
    "# modelfile = \"../models/x1.onnx\"\n",
    "# n_track_features = 21\n",
    "\n",
    "modelfile = \"../models/x2.onnx\"\n",
    "n_track_features = 19\n"
   ]
  },
  {
   "cell_type": "code",
   "execution_count": 4,
   "metadata": {},
   "outputs": [],
   "source": [
    "onnx_model = onnx.load(modelfile)\n",
    "onnx.checker.check_model(onnx_model)"
   ]
  },
  {
   "cell_type": "code",
   "execution_count": 5,
   "metadata": {},
   "outputs": [
    {
     "name": "stderr",
     "output_type": "stream",
     "text": [
      "2024-04-05 16:18:56.976445368 [W:onnxruntime:, graph.cc:3543 CleanUnusedInitializersAndNodeArgs] Removing initializer '1070'. It is not used by any node and should be removed from the model.\n",
      "2024-04-05 16:18:56.976474698 [W:onnxruntime:, graph.cc:3543 CleanUnusedInitializersAndNodeArgs] Removing initializer '1064'. It is not used by any node and should be removed from the model.\n",
      "2024-04-05 16:18:56.976481688 [W:onnxruntime:, graph.cc:3543 CleanUnusedInitializersAndNodeArgs] Removing initializer '1101'. It is not used by any node and should be removed from the model.\n",
      "2024-04-05 16:18:56.976484818 [W:onnxruntime:, graph.cc:3543 CleanUnusedInitializersAndNodeArgs] Removing initializer '1095'. It is not used by any node and should be removed from the model.\n",
      "2024-04-05 16:18:56.976490088 [W:onnxruntime:, graph.cc:3543 CleanUnusedInitializersAndNodeArgs] Removing initializer '1126'. It is not used by any node and should be removed from the model.\n",
      "2024-04-05 16:18:56.976493028 [W:onnxruntime:, graph.cc:3543 CleanUnusedInitializersAndNodeArgs] Removing initializer '1120'. It is not used by any node and should be removed from the model.\n",
      "2024-04-05 16:18:56.976501048 [W:onnxruntime:, graph.cc:3543 CleanUnusedInitializersAndNodeArgs] Removing initializer '1172'. It is not used by any node and should be removed from the model.\n",
      "2024-04-05 16:18:56.976510128 [W:onnxruntime:, graph.cc:3543 CleanUnusedInitializersAndNodeArgs] Removing initializer '1215'. It is not used by any node and should be removed from the model.\n",
      "2024-04-05 16:18:56.976513058 [W:onnxruntime:, graph.cc:3543 CleanUnusedInitializersAndNodeArgs] Removing initializer '1217'. It is not used by any node and should be removed from the model.\n",
      "2024-04-05 16:18:56.976515888 [W:onnxruntime:, graph.cc:3543 CleanUnusedInitializersAndNodeArgs] Removing initializer '1202'. It is not used by any node and should be removed from the model.\n",
      "2024-04-05 16:18:56.976518858 [W:onnxruntime:, graph.cc:3543 CleanUnusedInitializersAndNodeArgs] Removing initializer '1201'. It is not used by any node and should be removed from the model.\n",
      "2024-04-05 16:18:56.976554798 [W:onnxruntime:, graph.cc:3543 CleanUnusedInitializersAndNodeArgs] Removing initializer '1246'. It is not used by any node and should be removed from the model.\n",
      "2024-04-05 16:18:56.976557948 [W:onnxruntime:, graph.cc:3543 CleanUnusedInitializersAndNodeArgs] Removing initializer '1319'. It is not used by any node and should be removed from the model.\n",
      "2024-04-05 16:18:56.976560718 [W:onnxruntime:, graph.cc:3543 CleanUnusedInitializersAndNodeArgs] Removing initializer '1240'. It is not used by any node and should be removed from the model.\n",
      "2024-04-05 16:18:56.976564158 [W:onnxruntime:, graph.cc:3543 CleanUnusedInitializersAndNodeArgs] Removing initializer '1294'. It is not used by any node and should be removed from the model.\n",
      "2024-04-05 16:18:56.976567018 [W:onnxruntime:, graph.cc:3543 CleanUnusedInitializersAndNodeArgs] Removing initializer '1325'. It is not used by any node and should be removed from the model.\n",
      "2024-04-05 16:18:56.976569728 [W:onnxruntime:, graph.cc:3543 CleanUnusedInitializersAndNodeArgs] Removing initializer '1304'. It is not used by any node and should be removed from the model.\n",
      "2024-04-05 16:18:56.976572658 [W:onnxruntime:, graph.cc:3543 CleanUnusedInitializersAndNodeArgs] Removing initializer '1273'. It is not used by any node and should be removed from the model.\n",
      "2024-04-05 16:18:56.976575678 [W:onnxruntime:, graph.cc:3543 CleanUnusedInitializersAndNodeArgs] Removing initializer '1334'. It is not used by any node and should be removed from the model.\n",
      "2024-04-05 16:18:56.976578398 [W:onnxruntime:, graph.cc:3543 CleanUnusedInitializersAndNodeArgs] Removing initializer '1347'. It is not used by any node and should be removed from the model.\n",
      "2024-04-05 16:18:56.976581148 [W:onnxruntime:, graph.cc:3543 CleanUnusedInitializersAndNodeArgs] Removing initializer '1352'. It is not used by any node and should be removed from the model.\n",
      "2024-04-05 16:18:56.976583768 [W:onnxruntime:, graph.cc:3543 CleanUnusedInitializersAndNodeArgs] Removing initializer '1284'. It is not used by any node and should be removed from the model.\n",
      "2024-04-05 16:18:56.976586408 [W:onnxruntime:, graph.cc:3543 CleanUnusedInitializersAndNodeArgs] Removing initializer '1395'. It is not used by any node and should be removed from the model.\n",
      "2024-04-05 16:18:56.976589058 [W:onnxruntime:, graph.cc:3543 CleanUnusedInitializersAndNodeArgs] Removing initializer '1371'. It is not used by any node and should be removed from the model.\n",
      "2024-04-05 16:18:56.976592838 [W:onnxruntime:, graph.cc:3543 CleanUnusedInitializersAndNodeArgs] Removing initializer '1397'. It is not used by any node and should be removed from the model.\n",
      "2024-04-05 16:18:56.976617288 [W:onnxruntime:, graph.cc:3543 CleanUnusedInitializersAndNodeArgs] Removing initializer '1468'. It is not used by any node and should be removed from the model.\n",
      "2024-04-05 16:18:56.976620158 [W:onnxruntime:, graph.cc:3543 CleanUnusedInitializersAndNodeArgs] Removing initializer '1463'. It is not used by any node and should be removed from the model.\n",
      "2024-04-05 16:18:56.976622828 [W:onnxruntime:, graph.cc:3543 CleanUnusedInitializersAndNodeArgs] Removing initializer '1457'. It is not used by any node and should be removed from the model.\n",
      "2024-04-05 16:18:56.976625508 [W:onnxruntime:, graph.cc:3543 CleanUnusedInitializersAndNodeArgs] Removing initializer '1485'. It is not used by any node and should be removed from the model.\n",
      "2024-04-05 16:18:56.976628428 [W:onnxruntime:, graph.cc:3543 CleanUnusedInitializersAndNodeArgs] Removing initializer '1489'. It is not used by any node and should be removed from the model.\n",
      "2024-04-05 16:18:56.976631338 [W:onnxruntime:, graph.cc:3543 CleanUnusedInitializersAndNodeArgs] Removing initializer '1483'. It is not used by any node and should be removed from the model.\n",
      "2024-04-05 16:18:56.976633978 [W:onnxruntime:, graph.cc:3543 CleanUnusedInitializersAndNodeArgs] Removing initializer '1464'. It is not used by any node and should be removed from the model.\n",
      "2024-04-05 16:18:56.976636658 [W:onnxruntime:, graph.cc:3543 CleanUnusedInitializersAndNodeArgs] Removing initializer '1484'. It is not used by any node and should be removed from the model.\n",
      "2024-04-05 16:18:56.992434528 [W:onnxruntime:, graph.cc:3543 CleanUnusedInitializersAndNodeArgs] Removing initializer '1071'. It is not used by any node and should be removed from the model.\n",
      "2024-04-05 16:18:56.992503168 [W:onnxruntime:, graph.cc:3543 CleanUnusedInitializersAndNodeArgs] Removing initializer '1247'. It is not used by any node and should be removed from the model.\n"
     ]
    }
   ],
   "source": [
    "ort_sess = ort.InferenceSession(modelfile)"
   ]
  },
  {
   "cell_type": "code",
   "execution_count": 6,
   "metadata": {},
   "outputs": [],
   "source": [
    "input_names = [x.name for x in ort_sess.get_inputs()]\n",
    "input_shapes = [x.shape for x in ort_sess.get_inputs()]\n",
    "output_names = [x.name for x in ort_sess.get_outputs()]\n",
    "output_shapes = [x.shape for x in ort_sess.get_outputs()]"
   ]
  },
  {
   "cell_type": "code",
   "execution_count": 7,
   "metadata": {},
   "outputs": [
    {
     "name": "stdout",
     "output_type": "stream",
     "text": [
      "Input names:  ['jet_features', 'track_features'] with shapes:  [[1, 2], ['n_tracks', 19]]\n",
      "Output names:  ['GN2v01_pb', 'GN2v01_pc', 'GN2v01_pu', 'GN2v01_ptau', 'GN2v01_TrackOrigin', 'GN2v01_VertexIndex'] with shapes:  [[], [], [], [], ['n_tracks'], ['n_tracks']]\n"
     ]
    }
   ],
   "source": [
    "print(\"Input names: \", input_names, \"with shapes: \", input_shapes)\n",
    "print(\"Output names: \", output_names, \"with shapes: \", output_shapes)"
   ]
  },
  {
   "cell_type": "code",
   "execution_count": 15,
   "metadata": {},
   "outputs": [
    {
     "name": "stdout",
     "output_type": "stream",
     "text": [
      "jet feature shape: (1, 2)\n",
      "track feature shape: (1, 19)\n"
     ]
    }
   ],
   "source": [
    "jet_features = np.array([[85507.8, -3.05748]], dtype=np.float32)\n",
    "track_features = np.array([0.]*n_track_features, dtype=np.float32)\n",
    "track_features = track_features.reshape(-1, n_track_features)\n",
    "\n",
    "print(\"jet feature shape:\", jet_features.shape)\n",
    "print(\"track feature shape:\", track_features.shape)"
   ]
  },
  {
   "cell_type": "code",
   "execution_count": 16,
   "metadata": {},
   "outputs": [],
   "source": [
    "results = ort_sess.run(output_names, {input_names[0]: jet_features, input_names[1]: track_features})"
   ]
  },
  {
   "cell_type": "code",
   "execution_count": 17,
   "metadata": {},
   "outputs": [
    {
     "data": {
      "text/plain": [
       "[array(0.00410247, dtype=float32),\n",
       " array(0.07487475, dtype=float32),\n",
       " array(0.5267351, dtype=float32),\n",
       " array(0.39428762, dtype=float32),\n",
       " array([6], dtype=int8),\n",
       " array([0], dtype=int8)]"
      ]
     },
     "execution_count": 17,
     "metadata": {},
     "output_type": "execute_result"
    }
   ],
   "source": [
    "results"
   ]
  },
  {
   "cell_type": "code",
   "execution_count": 11,
   "metadata": {},
   "outputs": [],
   "source": [
    "# numbers are taken from: \n",
    "# https://gitlab.cern.ch/atlas/athena/-/merge_requests/69721\n",
    "\n",
    "# jet_features = np.array([[11516.2, 1.0935]], dtype=np.float32)\n",
    "\n",
    "# track_features = np.array([-0.113795, 0.173364, -0.230979, -0.233828, 0.000914455, 1.1331, 1.3538, 0.00291881, 0.00241196, 1.61412e-05, 4, 8, 1, 1, 0, 0, 0, 0, 0, 0, 0, -0.126863, 0.00371974, 0.17269, 0.135184, -0.000857426, 0.904411, -0.0226558, 0.00404071, 0.00238144, 1.47576e-05, 4, 7, 1, 1, 0, 0, 0, 0, 0, 0, 1], dtype=np.float32)\n",
    "# track_features = track_features.reshape(-1, n_track_features)\n",
    "\n",
    "# print(\"jet feature shape:\", jet_features.shape)\n",
    "# print(\"track feature shape:\", track_features.shape)\n",
    "\n",
    "# pu, pc, pb = ort_sess.run(output_names, {input_names[0]: jet_features, input_names[1]: track_features})\n",
    "\n",
    "# print(f\"pu: {pu}\")\n",
    "# print(f\"pc: {pc}\")\n",
    "# print(f\"pb: {pb}\")"
   ]
  }
 ],
 "metadata": {
  "kernelspec": {
   "display_name": ".venv",
   "language": "python",
   "name": "python3"
  },
  "language_info": {
   "codemirror_mode": {
    "name": "ipython",
    "version": 3
   },
   "file_extension": ".py",
   "mimetype": "text/x-python",
   "name": "python",
   "nbconvert_exporter": "python",
   "pygments_lexer": "ipython3",
   "version": "3.10.12"
  }
 },
 "nbformat": 4,
 "nbformat_minor": 2
}
