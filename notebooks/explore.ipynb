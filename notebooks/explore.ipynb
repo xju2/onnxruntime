{
 "cells": [
  {
   "cell_type": "code",
   "execution_count": 1,
   "metadata": {},
   "outputs": [],
   "source": [
    "import onnx\n",
    "import onnxruntime as ort\n",
    "import numpy as np"
   ]
  },
  {
   "cell_type": "code",
   "execution_count": 2,
   "metadata": {},
   "outputs": [
    {
     "name": "stdout",
     "output_type": "stream",
     "text": [
      "1.15.1\n"
     ]
    }
   ],
   "source": [
    "print(ort.__version__)"
   ]
  },
  {
   "cell_type": "code",
   "execution_count": 17,
   "metadata": {},
   "outputs": [],
   "source": [
    "def inspect_model(model_path: str, n_track_features: int, none_input: bool = False):\n",
    "    model = onnx.load(model_path)\n",
    "    onnx.checker.check_model(model)\n",
    "    onnx.helper.printable_graph(model.graph)\n",
    "\n",
    "    ort_sess = ort.InferenceSession(model_path)\n",
    "    input_names = [x.name for x in ort_sess.get_inputs()]\n",
    "    input_shapes = [x.shape for x in ort_sess.get_inputs()]\n",
    "    output_names = [x.name for x in ort_sess.get_outputs()]\n",
    "    output_shapes = [x.shape for x in ort_sess.get_outputs()]\n",
    "    print(\"Input names: \", input_names, \"with shapes: \", input_shapes)\n",
    "    print(\"Output names: \", output_names, \"with shapes: \", output_shapes)\n",
    "\n",
    "\n",
    "    jet_features = np.array([[85507.8, -3.05748]], dtype=np.float32)\n",
    "    track_features = np.array([]*n_track_features, dtype=np.float32) \\\n",
    "        if none_input \\\n",
    "        else np.array([0.]*n_track_features, dtype=np.float32)\n",
    "    track_features = track_features.reshape(-1, n_track_features)\n",
    "    print(\"jet feature shape:\", jet_features.shape)\n",
    "    print(\"track feature shape:\", track_features.shape)\n",
    "\n",
    "    results = ort_sess.run(output_names, {input_names[0]: jet_features, input_names[1]: track_features})\n",
    "    return results\n"
   ]
  },
  {
   "cell_type": "code",
   "execution_count": 18,
   "metadata": {},
   "outputs": [],
   "source": [
    "m1_config = [\"/cvmfs/atlas.cern.ch/repo/sw/database/GroupData/dev/BTagging/20230307/gn2v00/antiktvr30rmax4rmin02track/network.onnx\", 21]\n",
    "m2_config = [\"/cvmfs/atlas.cern.ch/repo/sw/database/GroupData/dev/BTagging/20231205/GN2v01/antikt4empflow/network_fold0.onnx\", 19]"
   ]
  },
  {
   "cell_type": "code",
   "execution_count": 19,
   "metadata": {},
   "outputs": [
    {
     "name": "stdout",
     "output_type": "stream",
     "text": [
      "Input names:  ['jet_features', 'track_features'] with shapes:  [[1, 2], ['n_tracks', 21]]\n",
      "Output names:  ['pu', 'pc', 'pb'] with shapes:  [[1], [1], [1]]\n",
      "jet feature shape: (1, 2)\n",
      "track feature shape: (1, 21)\n"
     ]
    },
    {
     "data": {
      "text/plain": [
       "[array([0.8281662], dtype=float32),\n",
       " array([0.10067604], dtype=float32),\n",
       " array([0.07115781], dtype=float32)]"
      ]
     },
     "execution_count": 19,
     "metadata": {},
     "output_type": "execute_result"
    }
   ],
   "source": [
    "inspect_model(*m1_config)"
   ]
  },
  {
   "cell_type": "code",
   "execution_count": 20,
   "metadata": {},
   "outputs": [
    {
     "name": "stdout",
     "output_type": "stream",
     "text": [
      "Input names:  ['jet_features', 'track_features'] with shapes:  [[1, 2], ['n_tracks', 19]]\n",
      "Output names:  ['GN2v01_pb', 'GN2v01_pc', 'GN2v01_pu', 'GN2v01_ptau', 'GN2v01_TrackOrigin', 'GN2v01_VertexIndex'] with shapes:  [[], [], [], [], ['n_tracks'], ['n_tracks']]\n",
      "jet feature shape: (1, 2)\n",
      "track feature shape: (1, 19)\n"
     ]
    },
    {
     "name": "stderr",
     "output_type": "stream",
     "text": [
      "2024-04-09 17:19:35.128450888 [W:onnxruntime:, graph.cc:3543 CleanUnusedInitializersAndNodeArgs] Removing initializer '1070'. It is not used by any node and should be removed from the model.\n",
      "2024-04-09 17:19:35.128470579 [W:onnxruntime:, graph.cc:3543 CleanUnusedInitializersAndNodeArgs] Removing initializer '1064'. It is not used by any node and should be removed from the model.\n",
      "2024-04-09 17:19:35.128480419 [W:onnxruntime:, graph.cc:3543 CleanUnusedInitializersAndNodeArgs] Removing initializer '1101'. It is not used by any node and should be removed from the model.\n",
      "2024-04-09 17:19:35.128484189 [W:onnxruntime:, graph.cc:3543 CleanUnusedInitializersAndNodeArgs] Removing initializer '1095'. It is not used by any node and should be removed from the model.\n",
      "2024-04-09 17:19:35.128491009 [W:onnxruntime:, graph.cc:3543 CleanUnusedInitializersAndNodeArgs] Removing initializer '1126'. It is not used by any node and should be removed from the model.\n",
      "2024-04-09 17:19:35.128494459 [W:onnxruntime:, graph.cc:3543 CleanUnusedInitializersAndNodeArgs] Removing initializer '1120'. It is not used by any node and should be removed from the model.\n",
      "2024-04-09 17:19:35.128505169 [W:onnxruntime:, graph.cc:3543 CleanUnusedInitializersAndNodeArgs] Removing initializer '1172'. It is not used by any node and should be removed from the model.\n",
      "2024-04-09 17:19:35.128517309 [W:onnxruntime:, graph.cc:3543 CleanUnusedInitializersAndNodeArgs] Removing initializer '1215'. It is not used by any node and should be removed from the model.\n",
      "2024-04-09 17:19:35.128520669 [W:onnxruntime:, graph.cc:3543 CleanUnusedInitializersAndNodeArgs] Removing initializer '1217'. It is not used by any node and should be removed from the model.\n",
      "2024-04-09 17:19:35.128524039 [W:onnxruntime:, graph.cc:3543 CleanUnusedInitializersAndNodeArgs] Removing initializer '1202'. It is not used by any node and should be removed from the model.\n",
      "2024-04-09 17:19:35.128527569 [W:onnxruntime:, graph.cc:3543 CleanUnusedInitializersAndNodeArgs] Removing initializer '1201'. It is not used by any node and should be removed from the model.\n",
      "2024-04-09 17:19:35.128577609 [W:onnxruntime:, graph.cc:3543 CleanUnusedInitializersAndNodeArgs] Removing initializer '1246'. It is not used by any node and should be removed from the model.\n",
      "2024-04-09 17:19:35.128583009 [W:onnxruntime:, graph.cc:3543 CleanUnusedInitializersAndNodeArgs] Removing initializer '1319'. It is not used by any node and should be removed from the model.\n",
      "2024-04-09 17:19:35.128586630 [W:onnxruntime:, graph.cc:3543 CleanUnusedInitializersAndNodeArgs] Removing initializer '1240'. It is not used by any node and should be removed from the model.\n",
      "2024-04-09 17:19:35.128591530 [W:onnxruntime:, graph.cc:3543 CleanUnusedInitializersAndNodeArgs] Removing initializer '1294'. It is not used by any node and should be removed from the model.\n",
      "2024-04-09 17:19:35.128595310 [W:onnxruntime:, graph.cc:3543 CleanUnusedInitializersAndNodeArgs] Removing initializer '1325'. It is not used by any node and should be removed from the model.\n",
      "2024-04-09 17:19:35.128598980 [W:onnxruntime:, graph.cc:3543 CleanUnusedInitializersAndNodeArgs] Removing initializer '1304'. It is not used by any node and should be removed from the model.\n",
      "2024-04-09 17:19:35.128603050 [W:onnxruntime:, graph.cc:3543 CleanUnusedInitializersAndNodeArgs] Removing initializer '1273'. It is not used by any node and should be removed from the model.\n",
      "2024-04-09 17:19:35.128607190 [W:onnxruntime:, graph.cc:3543 CleanUnusedInitializersAndNodeArgs] Removing initializer '1334'. It is not used by any node and should be removed from the model.\n",
      "2024-04-09 17:19:35.128610990 [W:onnxruntime:, graph.cc:3543 CleanUnusedInitializersAndNodeArgs] Removing initializer '1347'. It is not used by any node and should be removed from the model.\n",
      "2024-04-09 17:19:35.128614740 [W:onnxruntime:, graph.cc:3543 CleanUnusedInitializersAndNodeArgs] Removing initializer '1352'. It is not used by any node and should be removed from the model.\n",
      "2024-04-09 17:19:35.128618400 [W:onnxruntime:, graph.cc:3543 CleanUnusedInitializersAndNodeArgs] Removing initializer '1284'. It is not used by any node and should be removed from the model.\n",
      "2024-04-09 17:19:35.128622120 [W:onnxruntime:, graph.cc:3543 CleanUnusedInitializersAndNodeArgs] Removing initializer '1395'. It is not used by any node and should be removed from the model.\n",
      "2024-04-09 17:19:35.128628880 [W:onnxruntime:, graph.cc:3543 CleanUnusedInitializersAndNodeArgs] Removing initializer '1371'. It is not used by any node and should be removed from the model.\n",
      "2024-04-09 17:19:35.128632600 [W:onnxruntime:, graph.cc:3543 CleanUnusedInitializersAndNodeArgs] Removing initializer '1397'. It is not used by any node and should be removed from the model.\n",
      "2024-04-09 17:19:35.128673500 [W:onnxruntime:, graph.cc:3543 CleanUnusedInitializersAndNodeArgs] Removing initializer '1468'. It is not used by any node and should be removed from the model.\n",
      "2024-04-09 17:19:35.128678790 [W:onnxruntime:, graph.cc:3543 CleanUnusedInitializersAndNodeArgs] Removing initializer '1463'. It is not used by any node and should be removed from the model.\n",
      "2024-04-09 17:19:35.128682750 [W:onnxruntime:, graph.cc:3543 CleanUnusedInitializersAndNodeArgs] Removing initializer '1457'. It is not used by any node and should be removed from the model.\n",
      "2024-04-09 17:19:35.128686690 [W:onnxruntime:, graph.cc:3543 CleanUnusedInitializersAndNodeArgs] Removing initializer '1485'. It is not used by any node and should be removed from the model.\n",
      "2024-04-09 17:19:35.128690950 [W:onnxruntime:, graph.cc:3543 CleanUnusedInitializersAndNodeArgs] Removing initializer '1489'. It is not used by any node and should be removed from the model.\n",
      "2024-04-09 17:19:35.128695110 [W:onnxruntime:, graph.cc:3543 CleanUnusedInitializersAndNodeArgs] Removing initializer '1483'. It is not used by any node and should be removed from the model.\n",
      "2024-04-09 17:19:35.128698950 [W:onnxruntime:, graph.cc:3543 CleanUnusedInitializersAndNodeArgs] Removing initializer '1464'. It is not used by any node and should be removed from the model.\n",
      "2024-04-09 17:19:35.128702850 [W:onnxruntime:, graph.cc:3543 CleanUnusedInitializersAndNodeArgs] Removing initializer '1484'. It is not used by any node and should be removed from the model.\n",
      "2024-04-09 17:19:35.148204598 [W:onnxruntime:, graph.cc:3543 CleanUnusedInitializersAndNodeArgs] Removing initializer '1071'. It is not used by any node and should be removed from the model.\n",
      "2024-04-09 17:19:35.148273578 [W:onnxruntime:, graph.cc:3543 CleanUnusedInitializersAndNodeArgs] Removing initializer '1247'. It is not used by any node and should be removed from the model.\n"
     ]
    },
    {
     "data": {
      "text/plain": [
       "[array(0.00410247, dtype=float32),\n",
       " array(0.07487475, dtype=float32),\n",
       " array(0.5267351, dtype=float32),\n",
       " array(0.39428762, dtype=float32),\n",
       " array([6], dtype=int8),\n",
       " array([0], dtype=int8)]"
      ]
     },
     "execution_count": 20,
     "metadata": {},
     "output_type": "execute_result"
    }
   ],
   "source": [
    "inspect_model(*m2_config)"
   ]
  },
  {
   "cell_type": "code",
   "execution_count": 11,
   "metadata": {},
   "outputs": [],
   "source": [
    "# numbers are taken from: \n",
    "# https://gitlab.cern.ch/atlas/athena/-/merge_requests/69721\n",
    "\n",
    "# jet_features = np.array([[11516.2, 1.0935]], dtype=np.float32)\n",
    "\n",
    "# track_features = np.array([-0.113795, 0.173364, -0.230979, -0.233828, 0.000914455, 1.1331, 1.3538, 0.00291881, 0.00241196, 1.61412e-05, 4, 8, 1, 1, 0, 0, 0, 0, 0, 0, 0, -0.126863, 0.00371974, 0.17269, 0.135184, -0.000857426, 0.904411, -0.0226558, 0.00404071, 0.00238144, 1.47576e-05, 4, 7, 1, 1, 0, 0, 0, 0, 0, 0, 1], dtype=np.float32)\n",
    "# track_features = track_features.reshape(-1, n_track_features)\n",
    "\n",
    "# print(\"jet feature shape:\", jet_features.shape)\n",
    "# print(\"track feature shape:\", track_features.shape)\n",
    "\n",
    "# pu, pc, pb = ort_sess.run(output_names, {input_names[0]: jet_features, input_names[1]: track_features})\n",
    "\n",
    "# print(f\"pu: {pu}\")\n",
    "# print(f\"pc: {pc}\")\n",
    "# print(f\"pb: {pb}\")"
   ]
  }
 ],
 "metadata": {
  "kernelspec": {
   "display_name": ".venv",
   "language": "python",
   "name": "python3"
  },
  "language_info": {
   "codemirror_mode": {
    "name": "ipython",
    "version": 3
   },
   "file_extension": ".py",
   "mimetype": "text/x-python",
   "name": "python",
   "nbconvert_exporter": "python",
   "pygments_lexer": "ipython3",
   "version": "3.10.12"
  }
 },
 "nbformat": 4,
 "nbformat_minor": 2
}
