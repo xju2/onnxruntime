{
 "cells": [
  {
   "cell_type": "code",
   "execution_count": 1,
   "metadata": {},
   "outputs": [],
   "source": [
    "import onnx\n",
    "import onnxruntime as ort\n",
    "import numpy as np"
   ]
  },
  {
   "cell_type": "code",
   "execution_count": 2,
   "metadata": {},
   "outputs": [
    {
     "name": "stdout",
     "output_type": "stream",
     "text": [
      "1.15.1\n"
     ]
    }
   ],
   "source": [
    "print(ort.__version__)"
   ]
  },
  {
   "cell_type": "code",
   "execution_count": 3,
   "metadata": {},
   "outputs": [],
   "source": [
    "modelfile = \"../models/x1_network.onnx\""
   ]
  },
  {
   "cell_type": "code",
   "execution_count": 4,
   "metadata": {},
   "outputs": [],
   "source": [
    "onnx_model = onnx.load(modelfile)\n",
    "onnx.checker.check_model(onnx_model)"
   ]
  },
  {
   "cell_type": "code",
   "execution_count": 5,
   "metadata": {},
   "outputs": [],
   "source": [
    "ort_sess = ort.InferenceSession(modelfile)"
   ]
  },
  {
   "cell_type": "code",
   "execution_count": 6,
   "metadata": {},
   "outputs": [],
   "source": [
    "input_names = [x.name for x in ort_sess.get_inputs()]\n",
    "input_shapes = [x.shape for x in ort_sess.get_inputs()]\n",
    "output_names = [x.name for x in ort_sess.get_outputs()]\n",
    "output_shapes = [x.shape for x in ort_sess.get_outputs()]"
   ]
  },
  {
   "cell_type": "code",
   "execution_count": 7,
   "metadata": {},
   "outputs": [
    {
     "name": "stdout",
     "output_type": "stream",
     "text": [
      "Input names:  ['jet_features', 'track_features'] with shapes:  [[1, 2], ['n_tracks', 21]]\n",
      "Output names:  ['pu', 'pc', 'pb'] with shapes:  [[1], [1], [1]]\n"
     ]
    }
   ],
   "source": [
    "print(\"Input names: \", input_names, \"with shapes: \", input_shapes)\n",
    "print(\"Output names: \", output_names, \"with shapes: \", output_shapes)"
   ]
  },
  {
   "cell_type": "code",
   "execution_count": 8,
   "metadata": {},
   "outputs": [
    {
     "name": "stdout",
     "output_type": "stream",
     "text": [
      "(1, 2)\n",
      "(2, 21)\n"
     ]
    }
   ],
   "source": [
    "# numbers are taken from: \n",
    "# https://gitlab.cern.ch/atlas/athena/-/merge_requests/69721\n",
    "\n",
    "jet_features = np.array([[11516.2, 1.0935]], dtype=np.float32)\n",
    "print(jet_features.shape)\n",
    "\n",
    "track_features = np.array([-0.113795, 0.173364, -0.230979, -0.233828, 0.000914455, 1.1331, 1.3538, 0.00291881, 0.00241196, 1.61412e-05, 4, 8, 1, 1, 0, 0, 0, 0, 0, 0, 0, -0.126863, 0.00371974, 0.17269, 0.135184, -0.000857426, 0.904411, -0.0226558, 0.00404071, 0.00238144, 1.47576e-05, 4, 7, 1, 1, 0, 0, 0, 0, 0, 0, 1], dtype=np.float32)\n",
    "track_features = track_features.reshape(-1, 21)\n",
    "print(track_features.shape)"
   ]
  },
  {
   "cell_type": "code",
   "execution_count": 9,
   "metadata": {},
   "outputs": [],
   "source": [
    "pu, pc, pb = ort_sess.run(output_names, {input_names[0]: jet_features, input_names[1]: track_features})"
   ]
  },
  {
   "cell_type": "code",
   "execution_count": 10,
   "metadata": {},
   "outputs": [
    {
     "name": "stdout",
     "output_type": "stream",
     "text": [
      "pu: [0.8282893]\n",
      "pc: [0.10061738]\n",
      "pb: [0.07109336]\n"
     ]
    }
   ],
   "source": [
    "print(f\"pu: {pu}\")\n",
    "print(f\"pc: {pc}\")\n",
    "print(f\"pb: {pb}\")"
   ]
  },
  {
   "cell_type": "code",
   "execution_count": 18,
   "metadata": {},
   "outputs": [],
   "source": [
    "jet_features = np.array([[85507.8, -3.05748]], dtype=np.float32)\n",
    "track_features = np.array([]*21, dtype=np.float32)\n",
    "track_features = track_features.reshape(-1, 21)"
   ]
  },
  {
   "cell_type": "code",
   "execution_count": 21,
   "metadata": {},
   "outputs": [
    {
     "data": {
      "text/plain": [
       "array([], shape=(0, 21), dtype=float32)"
      ]
     },
     "execution_count": 21,
     "metadata": {},
     "output_type": "execute_result"
    }
   ],
   "source": [
    "track_features"
   ]
  },
  {
   "cell_type": "code",
   "execution_count": 19,
   "metadata": {},
   "outputs": [],
   "source": [
    "pu, pc, pb = ort_sess.run(output_names, {input_names[0]: jet_features, input_names[1]: track_features})"
   ]
  },
  {
   "cell_type": "code",
   "execution_count": 20,
   "metadata": {},
   "outputs": [
    {
     "name": "stdout",
     "output_type": "stream",
     "text": [
      "pu: [0.6114677]\n",
      "pc: [0.26959956]\n",
      "pb: [0.11893278]\n"
     ]
    }
   ],
   "source": [
    "print(f\"pu: {pu}\")\n",
    "print(f\"pc: {pc}\")\n",
    "print(f\"pb: {pb}\")"
   ]
  }
 ],
 "metadata": {
  "kernelspec": {
   "display_name": ".venv",
   "language": "python",
   "name": "python3"
  },
  "language_info": {
   "codemirror_mode": {
    "name": "ipython",
    "version": 3
   },
   "file_extension": ".py",
   "mimetype": "text/x-python",
   "name": "python",
   "nbconvert_exporter": "python",
   "pygments_lexer": "ipython3",
   "version": "3.10.12"
  }
 },
 "nbformat": 4,
 "nbformat_minor": 2
}
